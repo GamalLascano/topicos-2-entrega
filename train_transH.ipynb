{
 "cells": [
  {
   "cell_type": "code",
   "execution_count": null,
   "id": "ded365e4-7262-4d24-8ed9-3a8133aa1210",
   "metadata": {},
   "outputs": [
    {
     "name": "stderr",
     "output_type": "stream",
     "text": [
      "c:\\Users\\gl\\anaconda3\\envs\\cuda_env\\Lib\\site-packages\\tqdm\\auto.py:21: TqdmWarning: IProgress not found. Please update jupyter and ipywidgets. See https://ipywidgets.readthedocs.io/en/stable/user_install.html\n",
      "  from .autonotebook import tqdm as notebook_tqdm\n"
     ]
    }
   ],
   "source": [
    "from pykeen.pipeline import pipeline\n",
    "from pykeen.triples import TriplesFactory"
   ]
  },
  {
   "cell_type": "code",
   "execution_count": null,
   "id": "1d8b8b1b-209a-4aa3-9636-81146be3a82a",
   "metadata": {},
   "outputs": [
    {
     "data": {
      "text/plain": [
       "TriplesFactory(num_entities=418172, num_relations=48, create_inverse_triples=True, num_triples=2008458, path=\"C:\\Users\\gl\\Projects\\TopicosIngenieriaSoftware2-2024\\dataset\\dataset_train.tsv.gz\")"
      ]
     },
     "execution_count": 3,
     "metadata": {},
     "output_type": "execute_result"
    }
   ],
   "source": [
    "triples_file = 'dataset/dataset_train.tsv.gz'\n",
    "triples_factory = TriplesFactory.from_path(triples_file,create_inverse_triples=True)"
   ]
  },
  {
   "cell_type": "code",
   "execution_count": 8,
   "id": "2cd5c853-07e4-4595-b812-9080f226edc4",
   "metadata": {},
   "outputs": [
    {
     "name": "stderr",
     "output_type": "stream",
     "text": [
      "Training epochs on cuda:0: 100%|██████████| 100/100 [2:49:21<00:00, 101.61s/epoch, loss=0.0991, prev_loss=0.099]\n",
      "Evaluating on cuda:0: 100%|██████████| 2.01M/2.01M [12:56:20<00:00, 43.1triple/s]  \n",
      "INFO:pykeen.evaluation.evaluator:Evaluation took 46804.12s seconds\n"
     ]
    }
   ],
   "source": [
    "pipeline_result = pipeline(\n",
    "    training=triples_file,\n",
    "    testing=triples_file,\n",
    "    model=\"TransH\",\n",
    "    # Training configuration\n",
    "    training_kwargs=dict(\n",
    "        num_epochs=100,\n",
    "        use_tqdm_batch=False,\n",
    "    ),\n",
    "    # Runtime configuration\n",
    "    random_seed=1234,\n",
    "    device=\"cuda:0\", #cpu\n",
    ")"
   ]
  },
  {
   "cell_type": "code",
   "execution_count": 9,
   "id": "477fcb45-f2e1-4ab8-bc98-1ee61c31ac57",
   "metadata": {},
   "outputs": [
    {
     "name": "stderr",
     "output_type": "stream",
     "text": [
      "INFO:pykeen.triples.triples_factory:Stored TriplesFactory(num_entities=418172, num_relations=24, create_inverse_triples=False, num_triples=2008458, path=\"C:\\Users\\gl\\Projects\\TopicosIngenieriaSoftware2-2024\\dataset\\dataset_train.tsv.gz\") to file:///C:/Users/gl/Projects/TopicosIngenieriaSoftware2-2024/models/inmuebles_grupo_22.v2/training_triples\n",
      "INFO:pykeen.pipeline.api:Saved to directory: C:\\Users\\gl\\Projects\\TopicosIngenieriaSoftware2-2024\\models\\inmuebles_grupo_22.v2\n"
     ]
    }
   ],
   "source": [
    "grupo_nro = 22\n",
    "pipeline_result.save_to_directory(f'models/inmuebles_grupo_{grupo_nro:02}.v2')"
   ]
  }
 ],
 "metadata": {
  "kernelspec": {
   "display_name": "cuda_env",
   "language": "python",
   "name": "python3"
  },
  "language_info": {
   "codemirror_mode": {
    "name": "ipython",
    "version": 3
   },
   "file_extension": ".py",
   "mimetype": "text/x-python",
   "name": "python",
   "nbconvert_exporter": "python",
   "pygments_lexer": "ipython3",
   "version": "3.11.3"
  }
 },
 "nbformat": 4,
 "nbformat_minor": 5
}
